{
  "nbformat": 4,
  "nbformat_minor": 0,
  "metadata": {
    "colab": {
      "provenance": [],
      "authorship_tag": "ABX9TyOSKJX74hW+SQjwb7Jxp8D0",
      "include_colab_link": true
    },
    "kernelspec": {
      "name": "python3",
      "display_name": "Python 3"
    },
    "language_info": {
      "name": "python"
    }
  },
  "cells": [
    {
      "cell_type": "markdown",
      "metadata": {
        "id": "view-in-github",
        "colab_type": "text"
      },
      "source": [
        "<a href=\"https://colab.research.google.com/github/Tejaswini120805/Machinelearninglab_050/blob/main/bayesian_theoryml.ipynb\" target=\"_parent\"><img src=\"https://colab.research.google.com/assets/colab-badge.svg\" alt=\"Open In Colab\"/></a>"
      ]
    },
    {
      "cell_type": "code",
      "execution_count": 1,
      "metadata": {
        "colab": {
          "base_uri": "https://localhost:8080/"
        },
        "id": "Zy6ar0p4c8ZR",
        "outputId": "ec60ccba-aab4-4721-a095-f7ac175c07f2"
      },
      "outputs": [
        {
          "output_type": "stream",
          "name": "stdout",
          "text": [
            "=== Classification Report ===\n",
            "              precision    recall  f1-score   support\n",
            "\n",
            "       Alive       0.91      0.90      0.91       685\n",
            "        Dead       0.46      0.49      0.48       120\n",
            "\n",
            "    accuracy                           0.84       805\n",
            "   macro avg       0.69      0.70      0.69       805\n",
            "weighted avg       0.84      0.84      0.84       805\n",
            "\n",
            "=== Confusion Matrix ===\n",
            "[[617  68]\n",
            " [ 61  59]]\n",
            "\n",
            "=== Bayesian Decision Theory with Cost Matrix ===\n",
            "              precision    recall  f1-score   support\n",
            "\n",
            "       Alive       0.90      0.92      0.91       685\n",
            "        Dead       0.47      0.42      0.45       120\n",
            "\n",
            "    accuracy                           0.84       805\n",
            "   macro avg       0.69      0.67      0.68       805\n",
            "weighted avg       0.84      0.84      0.84       805\n",
            "\n",
            "Confusion Matrix:\n",
            " [[628  57]\n",
            " [ 69  51]]\n"
          ]
        }
      ],
      "source": [
        "import pandas as pd\n",
        "import numpy as np\n",
        "from sklearn.model_selection import train_test_split\n",
        "from sklearn.preprocessing import LabelEncoder, StandardScaler\n",
        "from sklearn.naive_bayes import GaussianNB\n",
        "from sklearn.metrics import confusion_matrix, classification_report\n",
        "\n",
        "df = pd.read_csv(\"Breast_Cancer.csv\")\n",
        "df.dropna(inplace=True)\n",
        "\n",
        "target_col = 'Status'\n",
        "X = df.drop(columns=[target_col])\n",
        "y = df[target_col]\n",
        "\n",
        "cat_cols = X.select_dtypes(include=['object']).columns\n",
        "\n",
        "label_encoders = {}\n",
        "for col in cat_cols:\n",
        "    le = LabelEncoder()\n",
        "    X[col] = le.fit_transform(X[col])\n",
        "    label_encoders[col] = le\n",
        "\n",
        "le_target = LabelEncoder()\n",
        "y = le_target.fit_transform(y)\n",
        "\n",
        "scaler = StandardScaler()\n",
        "X_scaled = scaler.fit_transform(X)\n",
        "\n",
        "X_train, X_test, y_train, y_test = train_test_split(X_scaled, y, test_size=0.2, random_state=42)\n",
        "\n",
        "model = GaussianNB()\n",
        "model.fit(X_train, y_train)\n",
        "\n",
        "y_pred = model.predict(X_test)\n",
        "\n",
        "print(\"=== Classification Report ===\")\n",
        "print(classification_report(y_test, y_pred, target_names=le_target.classes_))\n",
        "\n",
        "print(\"=== Confusion Matrix ===\")\n",
        "print(confusion_matrix(y_test, y_pred))\n",
        "\n",
        "cost_matrix = np.array([[0, 1],\n",
        "                        [5, 0]])\n",
        "\n",
        "probs = model.predict_proba(X_test)\n",
        "expected_loss = np.dot(probs, cost_matrix.T)\n",
        "bayes_decision = np.argmin(expected_loss, axis=1)\n",
        "\n",
        "print(\"\\n=== Bayesian Decision Theory with Cost Matrix ===\")\n",
        "print(classification_report(y_test, bayes_decision, target_names=le_target.classes_))\n",
        "print(\"Confusion Matrix:\\n\", confusion_matrix(y_test, bayes_decision))\n"
      ]
    },
    {
      "cell_type": "code",
      "source": [
        "import pandas as pd\n",
        "import numpy as np\n",
        "from sklearn.model_selection import train_test_split\n",
        "from sklearn.preprocessing import StandardScaler\n",
        "from sklearn.naive_bayes import GaussianNB\n",
        "from sklearn.metrics import classification_report, confusion_matrix\n",
        "\n",
        "columns = [\n",
        "    'word_freq_make', 'word_freq_address', 'word_freq_all', 'word_freq_3d', 'word_freq_our',\n",
        "    'word_freq_over', 'word_freq_remove', 'word_freq_internet', 'word_freq_order',\n",
        "    'word_freq_mail', 'word_freq_receive', 'word_freq_will', 'word_freq_people',\n",
        "    'word_freq_report', 'word_freq_addresses', 'word_freq_free', 'word_freq_business',\n",
        "    'word_freq_email', 'word_freq_you', 'word_freq_credit', 'word_freq_your',\n",
        "    'word_freq_font', 'word_freq_000', 'word_freq_money', 'word_freq_hp', 'word_freq_hpl',\n",
        "    'word_freq_george', 'word_freq_650', 'word_freq_lab', 'word_freq_labs', 'word_freq_telnet',\n",
        "    'word_freq_857', 'word_freq_data', 'word_freq_415', 'word_freq_85', 'word_freq_technology',\n",
        "    'word_freq_1999', 'word_freq_parts', 'word_freq_pm', 'word_freq_direct', 'word_freq_cs',\n",
        "    'word_freq_meeting', 'word_freq_original', 'word_freq_project', 'word_freq_re',\n",
        "    'word_freq_edu', 'word_freq_table', 'word_freq_conference', 'char_freq_;', 'char_freq_(',\n",
        "    'char_freq_[', 'char_freq_!', 'char_freq_$', 'char_freq_#', 'capital_run_length_average',\n",
        "    'capital_run_length_longest', 'capital_run_length_total', 'spam_label'\n",
        "]\n",
        "\n",
        "df = pd.read_csv(\"spambase.data\", names=columns)\n",
        "\n",
        "X = df.drop(columns=['spam_label'])\n",
        "y = df['spam_label']\n",
        "\n",
        "scaler = StandardScaler()\n",
        "X_scaled = scaler.fit_transform(X)\n",
        "\n",
        "X_train, X_test, y_train, y_test = train_test_split(X_scaled, y, test_size=0.2, random_state=42)\n",
        "\n",
        "model = GaussianNB()\n",
        "model.fit(X_train, y_train)\n",
        "\n",
        "y_pred = model.predict(X_test)\n",
        "\n",
        "print(classification_report(y_test, y_pred))\n",
        "print(confusion_matrix(y_test, y_pred))\n",
        "\n",
        "cost_matrix = np.array([[0, 1],\n",
        "                        [10, 0]])\n",
        "\n",
        "probs = model.predict_proba(X_test)\n",
        "expected_loss = np.dot(probs, cost_matrix.T)\n",
        "bayes_decision = np.argmin(expected_loss, axis=1)\n",
        "\n",
        "print(classification_report(y_test, bayes_decision))\n",
        "print(confusion_matrix(y_test, bayes_decision))\n"
      ],
      "metadata": {
        "colab": {
          "base_uri": "https://localhost:8080/"
        },
        "id": "UKTYr8wVelQb",
        "outputId": "6eac6c89-c052-423f-9230-886a85900c6e"
      },
      "execution_count": 4,
      "outputs": [
        {
          "output_type": "stream",
          "name": "stdout",
          "text": [
            "              precision    recall  f1-score   support\n",
            "\n",
            "           0       0.94      0.74      0.83       531\n",
            "           1       0.72      0.94      0.82       390\n",
            "\n",
            "    accuracy                           0.82       921\n",
            "   macro avg       0.83      0.84      0.82       921\n",
            "weighted avg       0.85      0.82      0.82       921\n",
            "\n",
            "[[391 140]\n",
            " [ 24 366]]\n",
            "              precision    recall  f1-score   support\n",
            "\n",
            "           0       0.94      0.74      0.83       531\n",
            "           1       0.72      0.94      0.82       390\n",
            "\n",
            "    accuracy                           0.82       921\n",
            "   macro avg       0.83      0.84      0.82       921\n",
            "weighted avg       0.85      0.82      0.82       921\n",
            "\n",
            "[[392 139]\n",
            " [ 24 366]]\n"
          ]
        }
      ]
    },
    {
      "cell_type": "code",
      "source": [],
      "metadata": {
        "id": "2Fj2JwGRem97"
      },
      "execution_count": null,
      "outputs": []
    }
  ]
}