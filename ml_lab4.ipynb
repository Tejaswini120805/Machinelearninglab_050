{
  "nbformat": 4,
  "nbformat_minor": 0,
  "metadata": {
    "colab": {
      "provenance": [],
      "authorship_tag": "ABX9TyMHy4fog6HGfWAhPMlwJ/eM",
      "include_colab_link": true
    },
    "kernelspec": {
      "name": "python3",
      "display_name": "Python 3"
    },
    "language_info": {
      "name": "python"
    }
  },
  "cells": [
    {
      "cell_type": "markdown",
      "metadata": {
        "id": "view-in-github",
        "colab_type": "text"
      },
      "source": [
        "<a href=\"https://colab.research.google.com/github/Tejaswini120805/Machinelearninglab_050/blob/main/ml_lab4.ipynb\" target=\"_parent\"><img src=\"https://colab.research.google.com/assets/colab-badge.svg\" alt=\"Open In Colab\"/></a>"
      ]
    },
    {
      "cell_type": "code",
      "execution_count": 1,
      "metadata": {
        "colab": {
          "base_uri": "https://localhost:8080/"
        },
        "id": "Zy6ar0p4c8ZR",
        "outputId": "ec60ccba-aab4-4721-a095-f7ac175c07f2"
      },
      "outputs": [
        {
          "output_type": "stream",
          "name": "stdout",
          "text": [
            "=== Classification Report ===\n",
            "              precision    recall  f1-score   support\n",
            "\n",
            "       Alive       0.91      0.90      0.91       685\n",
            "        Dead       0.46      0.49      0.48       120\n",
            "\n",
            "    accuracy                           0.84       805\n",
            "   macro avg       0.69      0.70      0.69       805\n",
            "weighted avg       0.84      0.84      0.84       805\n",
            "\n",
            "=== Confusion Matrix ===\n",
            "[[617  68]\n",
            " [ 61  59]]\n",
            "\n",
            "=== Bayesian Decision Theory with Cost Matrix ===\n",
            "              precision    recall  f1-score   support\n",
            "\n",
            "       Alive       0.90      0.92      0.91       685\n",
            "        Dead       0.47      0.42      0.45       120\n",
            "\n",
            "    accuracy                           0.84       805\n",
            "   macro avg       0.69      0.67      0.68       805\n",
            "weighted avg       0.84      0.84      0.84       805\n",
            "\n",
            "Confusion Matrix:\n",
            " [[628  57]\n",
            " [ 69  51]]\n"
          ]
        }
      ],
      "source": [
        "import pandas as pd\n",
        "import numpy as np\n",
        "from sklearn.model_selection import train_test_split\n",
        "from sklearn.preprocessing import LabelEncoder, StandardScaler\n",
        "from sklearn.naive_bayes import GaussianNB\n",
        "from sklearn.metrics import confusion_matrix, classification_report\n",
        "\n",
        "df = pd.read_csv(\"Breast_Cancer.csv\")\n",
        "df.dropna(inplace=True)\n",
        "\n",
        "target_col = 'Status'\n",
        "X = df.drop(columns=[target_col])\n",
        "y = df[target_col]\n",
        "\n",
        "cat_cols = X.select_dtypes(include=['object']).columns\n",
        "\n",
        "label_encoders = {}\n",
        "for col in cat_cols:\n",
        "    le = LabelEncoder()\n",
        "    X[col] = le.fit_transform(X[col])\n",
        "    label_encoders[col] = le\n",
        "\n",
        "le_target = LabelEncoder()\n",
        "y = le_target.fit_transform(y)\n",
        "\n",
        "scaler = StandardScaler()\n",
        "X_scaled = scaler.fit_transform(X)\n",
        "\n",
        "X_train, X_test, y_train, y_test = train_test_split(X_scaled, y, test_size=0.2, random_state=42)\n",
        "\n",
        "model = GaussianNB()\n",
        "model.fit(X_train, y_train)\n",
        "\n",
        "y_pred = model.predict(X_test)\n",
        "\n",
        "print(\"=== Classification Report ===\")\n",
        "print(classification_report(y_test, y_pred, target_names=le_target.classes_))\n",
        "\n",
        "print(\"=== Confusion Matrix ===\")\n",
        "print(confusion_matrix(y_test, y_pred))\n",
        "\n",
        "cost_matrix = np.array([[0, 1],\n",
        "                        [5, 0]])\n",
        "\n",
        "probs = model.predict_proba(X_test)\n",
        "expected_loss = np.dot(probs, cost_matrix.T)\n",
        "bayes_decision = np.argmin(expected_loss, axis=1)\n",
        "\n",
        "print(\"\\n=== Bayesian Decision Theory with Cost Matrix ===\")\n",
        "print(classification_report(y_test, bayes_decision, target_names=le_target.classes_))\n",
        "print(\"Confusion Matrix:\\n\", confusion_matrix(y_test, bayes_decision))\n"
      ]
    }
  ]
}